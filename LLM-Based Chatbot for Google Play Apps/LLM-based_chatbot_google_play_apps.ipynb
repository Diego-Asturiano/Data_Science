{
 "cells": [
  {
   "cell_type": "markdown",
   "id": "5f064d19-e18e-4471-90e9-ac4948eb1506",
   "metadata": {},
   "source": [
    "# LLM-Based Chatbot for Google Play Apps"
   ]
  },
  {
   "cell_type": "markdown",
   "id": "4bf5eedd-e8c7-43bc-abe9-964a92540461",
   "metadata": {},
   "source": [
    "I developed an intelligent NLP chatbot capable of answering questions about Google Play applications using a RAG (Retrieval-Augmented Generation) pipeline. The system integrates natural language processing (NLP) with Pandas for data handling, FAISS for semantic search via embeddings, and a LLM to generate responses in natural language. Key functionalities include:\n",
    "\n",
    "- App ranking by price, rating, or popularity.\n",
    "- Insight generation on user behavior and trends.\n",
    "\n",
    "Technologies: Python, NLP, Pandas, LangChain, FAISS, RAG, LLMs (LLaMA, Gemma:2b, Phi3:mini), Google Play Store Dataset."
   ]
  },
  {
   "cell_type": "markdown",
   "id": "101ef64d-dd31-44f4-a164-4b2da44ca2f6",
   "metadata": {},
   "source": [
    "---"
   ]
  },
  {
   "cell_type": "markdown",
   "id": "55b7d7d5-be7d-4cf5-bd85-5a468df39001",
   "metadata": {},
   "source": [
    "## Library Import"
   ]
  },
  {
   "cell_type": "code",
   "execution_count": 4,
   "id": "53f3fba6-946f-4f31-a749-d0a28492b561",
   "metadata": {},
   "outputs": [],
   "source": [
    "from IPython.utils import io\n",
    "with io.capture_output():\n",
    "    !pip install -q -U sentence-transformers\n",
    "    !pip install -q tf-keras\n",
    "    !pip install -q langchain sentence-transformers faiss-cpu openai\n",
    "    !pip install -q sentence-transformers faiss-cpu pandas\n",
    "    !pip install -q langchain faiss-cpu sentence-transformers transformers accelerate\n",
    "    !pip install -q langchain faiss-cpu sentence-transformers\n",
    "    !pip install -q huggingface_hub\n",
    "    !pip install -q ollama"
   ]
  },
  {
   "cell_type": "code",
   "execution_count": 6,
   "id": "2bb53ba8-6d48-4714-a15a-43b2d5d5b00b",
   "metadata": {},
   "outputs": [],
   "source": [
    "import pandas as pd\n",
    "import numpy as np\n",
    "import os\n",
    "\n",
    "import matplotlib.pyplot as plt\n",
    "import seaborn as sns\n",
    "\n",
    "from huggingface_hub import hf_hub_download\n",
    "from langchain.embeddings import HuggingFaceEmbeddings\n",
    "from langchain.schema import Document\n",
    "from langchain.vectorstores import FAISS\n",
    "\n",
    "import warnings\n",
    "warnings.filterwarnings('ignore')"
   ]
  },
  {
   "cell_type": "code",
   "execution_count": 7,
   "id": "334f80d8-4a01-4b44-96fb-81e602424825",
   "metadata": {},
   "outputs": [],
   "source": [
    "df = pd.read_csv('googleplaystore.csv')"
   ]
  },
  {
   "cell_type": "code",
   "execution_count": 8,
   "id": "8c21a24c-d072-4da8-9d70-92c8c4a1ac31",
   "metadata": {},
   "outputs": [
    {
     "data": {
      "text/html": [
       "<div>\n",
       "<style scoped>\n",
       "    .dataframe tbody tr th:only-of-type {\n",
       "        vertical-align: middle;\n",
       "    }\n",
       "\n",
       "    .dataframe tbody tr th {\n",
       "        vertical-align: top;\n",
       "    }\n",
       "\n",
       "    .dataframe thead th {\n",
       "        text-align: right;\n",
       "    }\n",
       "</style>\n",
       "<table border=\"1\" class=\"dataframe\">\n",
       "  <thead>\n",
       "    <tr style=\"text-align: right;\">\n",
       "      <th></th>\n",
       "      <th>App</th>\n",
       "      <th>Category</th>\n",
       "      <th>Rating</th>\n",
       "      <th>Reviews</th>\n",
       "      <th>Size</th>\n",
       "      <th>Installs</th>\n",
       "      <th>Type</th>\n",
       "      <th>Price</th>\n",
       "      <th>Content Rating</th>\n",
       "      <th>Genres</th>\n",
       "      <th>Last Updated</th>\n",
       "      <th>Current Ver</th>\n",
       "      <th>Android Ver</th>\n",
       "    </tr>\n",
       "  </thead>\n",
       "  <tbody>\n",
       "    <tr>\n",
       "      <th>0</th>\n",
       "      <td>Photo Editor &amp; Candy Camera &amp; Grid &amp; ScrapBook</td>\n",
       "      <td>ART_AND_DESIGN</td>\n",
       "      <td>4.1</td>\n",
       "      <td>159</td>\n",
       "      <td>19M</td>\n",
       "      <td>10,000+</td>\n",
       "      <td>Free</td>\n",
       "      <td>0</td>\n",
       "      <td>Everyone</td>\n",
       "      <td>Art &amp; Design</td>\n",
       "      <td>January 7, 2018</td>\n",
       "      <td>1.0.0</td>\n",
       "      <td>4.0.3 and up</td>\n",
       "    </tr>\n",
       "    <tr>\n",
       "      <th>1</th>\n",
       "      <td>Coloring book moana</td>\n",
       "      <td>ART_AND_DESIGN</td>\n",
       "      <td>3.9</td>\n",
       "      <td>967</td>\n",
       "      <td>14M</td>\n",
       "      <td>500,000+</td>\n",
       "      <td>Free</td>\n",
       "      <td>0</td>\n",
       "      <td>Everyone</td>\n",
       "      <td>Art &amp; Design;Pretend Play</td>\n",
       "      <td>January 15, 2018</td>\n",
       "      <td>2.0.0</td>\n",
       "      <td>4.0.3 and up</td>\n",
       "    </tr>\n",
       "    <tr>\n",
       "      <th>2</th>\n",
       "      <td>U Launcher Lite – FREE Live Cool Themes, Hide ...</td>\n",
       "      <td>ART_AND_DESIGN</td>\n",
       "      <td>4.7</td>\n",
       "      <td>87510</td>\n",
       "      <td>8.7M</td>\n",
       "      <td>5,000,000+</td>\n",
       "      <td>Free</td>\n",
       "      <td>0</td>\n",
       "      <td>Everyone</td>\n",
       "      <td>Art &amp; Design</td>\n",
       "      <td>August 1, 2018</td>\n",
       "      <td>1.2.4</td>\n",
       "      <td>4.0.3 and up</td>\n",
       "    </tr>\n",
       "    <tr>\n",
       "      <th>3</th>\n",
       "      <td>Sketch - Draw &amp; Paint</td>\n",
       "      <td>ART_AND_DESIGN</td>\n",
       "      <td>4.5</td>\n",
       "      <td>215644</td>\n",
       "      <td>25M</td>\n",
       "      <td>50,000,000+</td>\n",
       "      <td>Free</td>\n",
       "      <td>0</td>\n",
       "      <td>Teen</td>\n",
       "      <td>Art &amp; Design</td>\n",
       "      <td>June 8, 2018</td>\n",
       "      <td>Varies with device</td>\n",
       "      <td>4.2 and up</td>\n",
       "    </tr>\n",
       "    <tr>\n",
       "      <th>4</th>\n",
       "      <td>Pixel Draw - Number Art Coloring Book</td>\n",
       "      <td>ART_AND_DESIGN</td>\n",
       "      <td>4.3</td>\n",
       "      <td>967</td>\n",
       "      <td>2.8M</td>\n",
       "      <td>100,000+</td>\n",
       "      <td>Free</td>\n",
       "      <td>0</td>\n",
       "      <td>Everyone</td>\n",
       "      <td>Art &amp; Design;Creativity</td>\n",
       "      <td>June 20, 2018</td>\n",
       "      <td>1.1</td>\n",
       "      <td>4.4 and up</td>\n",
       "    </tr>\n",
       "  </tbody>\n",
       "</table>\n",
       "</div>"
      ],
      "text/plain": [
       "                                                 App        Category  Rating  \\\n",
       "0     Photo Editor & Candy Camera & Grid & ScrapBook  ART_AND_DESIGN     4.1   \n",
       "1                                Coloring book moana  ART_AND_DESIGN     3.9   \n",
       "2  U Launcher Lite – FREE Live Cool Themes, Hide ...  ART_AND_DESIGN     4.7   \n",
       "3                              Sketch - Draw & Paint  ART_AND_DESIGN     4.5   \n",
       "4              Pixel Draw - Number Art Coloring Book  ART_AND_DESIGN     4.3   \n",
       "\n",
       "  Reviews  Size     Installs  Type Price Content Rating  \\\n",
       "0     159   19M      10,000+  Free     0       Everyone   \n",
       "1     967   14M     500,000+  Free     0       Everyone   \n",
       "2   87510  8.7M   5,000,000+  Free     0       Everyone   \n",
       "3  215644   25M  50,000,000+  Free     0           Teen   \n",
       "4     967  2.8M     100,000+  Free     0       Everyone   \n",
       "\n",
       "                      Genres      Last Updated         Current Ver  \\\n",
       "0               Art & Design   January 7, 2018               1.0.0   \n",
       "1  Art & Design;Pretend Play  January 15, 2018               2.0.0   \n",
       "2               Art & Design    August 1, 2018               1.2.4   \n",
       "3               Art & Design      June 8, 2018  Varies with device   \n",
       "4    Art & Design;Creativity     June 20, 2018                 1.1   \n",
       "\n",
       "    Android Ver  \n",
       "0  4.0.3 and up  \n",
       "1  4.0.3 and up  \n",
       "2  4.0.3 and up  \n",
       "3    4.2 and up  \n",
       "4    4.4 and up  "
      ]
     },
     "execution_count": 8,
     "metadata": {},
     "output_type": "execute_result"
    }
   ],
   "source": [
    "df.head()"
   ]
  },
  {
   "cell_type": "markdown",
   "id": "1ca69950-aed6-445d-8365-74122732488f",
   "metadata": {},
   "source": [
    "---"
   ]
  },
  {
   "cell_type": "markdown",
   "id": "dc8c5940-9b68-45e1-b15a-167e538e785d",
   "metadata": {},
   "source": [
    "## Data Preparation"
   ]
  },
  {
   "cell_type": "code",
   "execution_count": 11,
   "id": "a954a1ed-362e-4c83-a1e9-5aee4b6797f6",
   "metadata": {},
   "outputs": [
    {
     "name": "stdout",
     "output_type": "stream",
     "text": [
      "Number of Rows: 10841\n",
      "Number of Columns: 13\n"
     ]
    }
   ],
   "source": [
    "print(\"Number of Rows:\", df.shape[0])\n",
    "print(\"Number of Columns:\", df.shape[1])"
   ]
  },
  {
   "cell_type": "code",
   "execution_count": 12,
   "id": "1bd1ef28-54b9-445e-a481-1cee5e65f2fa",
   "metadata": {},
   "outputs": [
    {
     "name": "stdout",
     "output_type": "stream",
     "text": [
      "<class 'pandas.core.frame.DataFrame'>\n",
      "RangeIndex: 10841 entries, 0 to 10840\n",
      "Data columns (total 13 columns):\n",
      " #   Column          Non-Null Count  Dtype  \n",
      "---  ------          --------------  -----  \n",
      " 0   App             10841 non-null  object \n",
      " 1   Category        10841 non-null  object \n",
      " 2   Rating          9367 non-null   float64\n",
      " 3   Reviews         10841 non-null  object \n",
      " 4   Size            10841 non-null  object \n",
      " 5   Installs        10841 non-null  object \n",
      " 6   Type            10840 non-null  object \n",
      " 7   Price           10841 non-null  object \n",
      " 8   Content Rating  10840 non-null  object \n",
      " 9   Genres          10841 non-null  object \n",
      " 10  Last Updated    10841 non-null  object \n",
      " 11  Current Ver     10833 non-null  object \n",
      " 12  Android Ver     10838 non-null  object \n",
      "dtypes: float64(1), object(12)\n",
      "memory usage: 1.1+ MB\n"
     ]
    }
   ],
   "source": [
    "# Columns and Data Type\n",
    "df.info()"
   ]
  },
  {
   "cell_type": "markdown",
   "id": "e1cf803b-31d8-4d64-ae2f-cb24c9de0468",
   "metadata": {},
   "source": [
    "---"
   ]
  },
  {
   "cell_type": "markdown",
   "id": "6d3515a7-b007-41e1-b088-788017cb9e18",
   "metadata": {},
   "source": [
    "Variable change **Last Update** from object type to **datetime** with year-month-day format, NaT for invalid values.\n",
    "\n",
    "The **Last update** variable is subsequently changed to a **string** so that NLP can better interpret the dates."
   ]
  },
  {
   "cell_type": "code",
   "execution_count": 15,
   "id": "53ae6f62-7dd8-4cbe-b333-3d094a588f87",
   "metadata": {},
   "outputs": [],
   "source": [
    "#df['Last Updated'] = pd.to_datetime(df['Last Updated'])\n",
    "df['Last Updated'] = pd.to_datetime(df['Last Updated'], format=\"%B %d, %Y\", errors='coerce')"
   ]
  },
  {
   "cell_type": "code",
   "execution_count": 16,
   "id": "27c24678-ca13-47ca-923c-b64ff91013f7",
   "metadata": {},
   "outputs": [],
   "source": [
    "df['Last Updated'] = df['Last Updated'].astype(str)"
   ]
  },
  {
   "cell_type": "markdown",
   "id": "3628415b-c4ae-409f-889e-7a18ea3fced2",
   "metadata": {},
   "source": [
    "---"
   ]
  },
  {
   "cell_type": "markdown",
   "id": "71240c84-1453-4bf6-b5a0-ca49859a1ead",
   "metadata": {},
   "source": [
    "Handling **null** or **missing** values"
   ]
  },
  {
   "cell_type": "code",
   "execution_count": 19,
   "id": "4b312bcf-0cb7-4864-b1f8-4120a41f9cdf",
   "metadata": {},
   "outputs": [
    {
     "data": {
      "text/plain": [
       "App                  0\n",
       "Category             0\n",
       "Rating            1474\n",
       "Reviews              0\n",
       "Size                 0\n",
       "Installs             0\n",
       "Type                 1\n",
       "Price                0\n",
       "Content Rating       1\n",
       "Genres               0\n",
       "Last Updated         0\n",
       "Current Ver          8\n",
       "Android Ver          3\n",
       "dtype: int64"
      ]
     },
     "execution_count": 19,
     "metadata": {},
     "output_type": "execute_result"
    }
   ],
   "source": [
    "df.isnull().sum()"
   ]
  },
  {
   "cell_type": "code",
   "execution_count": 20,
   "id": "c83adec8-670d-4f85-bc90-1e22c2c9bf17",
   "metadata": {},
   "outputs": [
    {
     "data": {
      "text/html": [
       "<div>\n",
       "<style scoped>\n",
       "    .dataframe tbody tr th:only-of-type {\n",
       "        vertical-align: middle;\n",
       "    }\n",
       "\n",
       "    .dataframe tbody tr th {\n",
       "        vertical-align: top;\n",
       "    }\n",
       "\n",
       "    .dataframe thead th {\n",
       "        text-align: right;\n",
       "    }\n",
       "</style>\n",
       "<table border=\"1\" class=\"dataframe\">\n",
       "  <thead>\n",
       "    <tr style=\"text-align: right;\">\n",
       "      <th></th>\n",
       "      <th>App</th>\n",
       "      <th>Category</th>\n",
       "      <th>Rating</th>\n",
       "      <th>Reviews</th>\n",
       "      <th>Size</th>\n",
       "      <th>Installs</th>\n",
       "      <th>Type</th>\n",
       "      <th>Price</th>\n",
       "      <th>Content Rating</th>\n",
       "      <th>Genres</th>\n",
       "      <th>Last Updated</th>\n",
       "      <th>Current Ver</th>\n",
       "      <th>Android Ver</th>\n",
       "    </tr>\n",
       "  </thead>\n",
       "  <tbody>\n",
       "    <tr>\n",
       "      <th>15</th>\n",
       "      <td>Learn To Draw Kawaii Characters</td>\n",
       "      <td>ART_AND_DESIGN</td>\n",
       "      <td>3.2</td>\n",
       "      <td>55</td>\n",
       "      <td>2.7M</td>\n",
       "      <td>5,000+</td>\n",
       "      <td>Free</td>\n",
       "      <td>0</td>\n",
       "      <td>Everyone</td>\n",
       "      <td>Art &amp; Design</td>\n",
       "      <td>2018-06-06</td>\n",
       "      <td>NaN</td>\n",
       "      <td>4.2 and up</td>\n",
       "    </tr>\n",
       "    <tr>\n",
       "      <th>23</th>\n",
       "      <td>Mcqueen Coloring pages</td>\n",
       "      <td>ART_AND_DESIGN</td>\n",
       "      <td>NaN</td>\n",
       "      <td>61</td>\n",
       "      <td>7.0M</td>\n",
       "      <td>100,000+</td>\n",
       "      <td>Free</td>\n",
       "      <td>0</td>\n",
       "      <td>Everyone</td>\n",
       "      <td>Art &amp; Design;Action &amp; Adventure</td>\n",
       "      <td>2018-03-07</td>\n",
       "      <td>1.0.0</td>\n",
       "      <td>4.1 and up</td>\n",
       "    </tr>\n",
       "    <tr>\n",
       "      <th>113</th>\n",
       "      <td>Wrinkles and rejuvenation</td>\n",
       "      <td>BEAUTY</td>\n",
       "      <td>NaN</td>\n",
       "      <td>182</td>\n",
       "      <td>5.7M</td>\n",
       "      <td>100,000+</td>\n",
       "      <td>Free</td>\n",
       "      <td>0</td>\n",
       "      <td>Everyone 10+</td>\n",
       "      <td>Beauty</td>\n",
       "      <td>2017-09-20</td>\n",
       "      <td>8.0</td>\n",
       "      <td>3.0 and up</td>\n",
       "    </tr>\n",
       "    <tr>\n",
       "      <th>123</th>\n",
       "      <td>Manicure - nail design</td>\n",
       "      <td>BEAUTY</td>\n",
       "      <td>NaN</td>\n",
       "      <td>119</td>\n",
       "      <td>3.7M</td>\n",
       "      <td>50,000+</td>\n",
       "      <td>Free</td>\n",
       "      <td>0</td>\n",
       "      <td>Everyone</td>\n",
       "      <td>Beauty</td>\n",
       "      <td>2018-07-23</td>\n",
       "      <td>1.3</td>\n",
       "      <td>4.1 and up</td>\n",
       "    </tr>\n",
       "    <tr>\n",
       "      <th>126</th>\n",
       "      <td>Skin Care and Natural Beauty</td>\n",
       "      <td>BEAUTY</td>\n",
       "      <td>NaN</td>\n",
       "      <td>654</td>\n",
       "      <td>7.4M</td>\n",
       "      <td>100,000+</td>\n",
       "      <td>Free</td>\n",
       "      <td>0</td>\n",
       "      <td>Teen</td>\n",
       "      <td>Beauty</td>\n",
       "      <td>2018-07-17</td>\n",
       "      <td>1.15</td>\n",
       "      <td>4.1 and up</td>\n",
       "    </tr>\n",
       "    <tr>\n",
       "      <th>...</th>\n",
       "      <td>...</td>\n",
       "      <td>...</td>\n",
       "      <td>...</td>\n",
       "      <td>...</td>\n",
       "      <td>...</td>\n",
       "      <td>...</td>\n",
       "      <td>...</td>\n",
       "      <td>...</td>\n",
       "      <td>...</td>\n",
       "      <td>...</td>\n",
       "      <td>...</td>\n",
       "      <td>...</td>\n",
       "      <td>...</td>\n",
       "    </tr>\n",
       "    <tr>\n",
       "      <th>10824</th>\n",
       "      <td>Cardio-FR</td>\n",
       "      <td>MEDICAL</td>\n",
       "      <td>NaN</td>\n",
       "      <td>67</td>\n",
       "      <td>82M</td>\n",
       "      <td>10,000+</td>\n",
       "      <td>Free</td>\n",
       "      <td>0</td>\n",
       "      <td>Everyone</td>\n",
       "      <td>Medical</td>\n",
       "      <td>2018-07-31</td>\n",
       "      <td>2.2.2</td>\n",
       "      <td>4.4 and up</td>\n",
       "    </tr>\n",
       "    <tr>\n",
       "      <th>10825</th>\n",
       "      <td>Naruto &amp; Boruto FR</td>\n",
       "      <td>SOCIAL</td>\n",
       "      <td>NaN</td>\n",
       "      <td>7</td>\n",
       "      <td>7.7M</td>\n",
       "      <td>100+</td>\n",
       "      <td>Free</td>\n",
       "      <td>0</td>\n",
       "      <td>Teen</td>\n",
       "      <td>Social</td>\n",
       "      <td>2018-02-02</td>\n",
       "      <td>1.0</td>\n",
       "      <td>4.0 and up</td>\n",
       "    </tr>\n",
       "    <tr>\n",
       "      <th>10831</th>\n",
       "      <td>payermonstationnement.fr</td>\n",
       "      <td>MAPS_AND_NAVIGATION</td>\n",
       "      <td>NaN</td>\n",
       "      <td>38</td>\n",
       "      <td>9.8M</td>\n",
       "      <td>5,000+</td>\n",
       "      <td>Free</td>\n",
       "      <td>0</td>\n",
       "      <td>Everyone</td>\n",
       "      <td>Maps &amp; Navigation</td>\n",
       "      <td>2018-06-13</td>\n",
       "      <td>2.0.148.0</td>\n",
       "      <td>4.0 and up</td>\n",
       "    </tr>\n",
       "    <tr>\n",
       "      <th>10835</th>\n",
       "      <td>FR Forms</td>\n",
       "      <td>BUSINESS</td>\n",
       "      <td>NaN</td>\n",
       "      <td>0</td>\n",
       "      <td>9.6M</td>\n",
       "      <td>10+</td>\n",
       "      <td>Free</td>\n",
       "      <td>0</td>\n",
       "      <td>Everyone</td>\n",
       "      <td>Business</td>\n",
       "      <td>2016-09-29</td>\n",
       "      <td>1.1.5</td>\n",
       "      <td>4.0 and up</td>\n",
       "    </tr>\n",
       "    <tr>\n",
       "      <th>10838</th>\n",
       "      <td>Parkinson Exercices FR</td>\n",
       "      <td>MEDICAL</td>\n",
       "      <td>NaN</td>\n",
       "      <td>3</td>\n",
       "      <td>9.5M</td>\n",
       "      <td>1,000+</td>\n",
       "      <td>Free</td>\n",
       "      <td>0</td>\n",
       "      <td>Everyone</td>\n",
       "      <td>Medical</td>\n",
       "      <td>2017-01-20</td>\n",
       "      <td>1.0</td>\n",
       "      <td>2.2 and up</td>\n",
       "    </tr>\n",
       "  </tbody>\n",
       "</table>\n",
       "<p>1481 rows × 13 columns</p>\n",
       "</div>"
      ],
      "text/plain": [
       "                                   App             Category  Rating Reviews  \\\n",
       "15     Learn To Draw Kawaii Characters       ART_AND_DESIGN     3.2      55   \n",
       "23              Mcqueen Coloring pages       ART_AND_DESIGN     NaN      61   \n",
       "113          Wrinkles and rejuvenation               BEAUTY     NaN     182   \n",
       "123             Manicure - nail design               BEAUTY     NaN     119   \n",
       "126       Skin Care and Natural Beauty               BEAUTY     NaN     654   \n",
       "...                                ...                  ...     ...     ...   \n",
       "10824                        Cardio-FR              MEDICAL     NaN      67   \n",
       "10825               Naruto & Boruto FR               SOCIAL     NaN       7   \n",
       "10831         payermonstationnement.fr  MAPS_AND_NAVIGATION     NaN      38   \n",
       "10835                         FR Forms             BUSINESS     NaN       0   \n",
       "10838           Parkinson Exercices FR              MEDICAL     NaN       3   \n",
       "\n",
       "       Size  Installs  Type Price Content Rating  \\\n",
       "15     2.7M    5,000+  Free     0       Everyone   \n",
       "23     7.0M  100,000+  Free     0       Everyone   \n",
       "113    5.7M  100,000+  Free     0   Everyone 10+   \n",
       "123    3.7M   50,000+  Free     0       Everyone   \n",
       "126    7.4M  100,000+  Free     0           Teen   \n",
       "...     ...       ...   ...   ...            ...   \n",
       "10824   82M   10,000+  Free     0       Everyone   \n",
       "10825  7.7M      100+  Free     0           Teen   \n",
       "10831  9.8M    5,000+  Free     0       Everyone   \n",
       "10835  9.6M       10+  Free     0       Everyone   \n",
       "10838  9.5M    1,000+  Free     0       Everyone   \n",
       "\n",
       "                                Genres Last Updated Current Ver Android Ver  \n",
       "15                        Art & Design   2018-06-06         NaN  4.2 and up  \n",
       "23     Art & Design;Action & Adventure   2018-03-07       1.0.0  4.1 and up  \n",
       "113                             Beauty   2017-09-20         8.0  3.0 and up  \n",
       "123                             Beauty   2018-07-23         1.3  4.1 and up  \n",
       "126                             Beauty   2018-07-17        1.15  4.1 and up  \n",
       "...                                ...          ...         ...         ...  \n",
       "10824                          Medical   2018-07-31       2.2.2  4.4 and up  \n",
       "10825                           Social   2018-02-02         1.0  4.0 and up  \n",
       "10831                Maps & Navigation   2018-06-13   2.0.148.0  4.0 and up  \n",
       "10835                         Business   2016-09-29       1.1.5  4.0 and up  \n",
       "10838                          Medical   2017-01-20         1.0  2.2 and up  \n",
       "\n",
       "[1481 rows x 13 columns]"
      ]
     },
     "execution_count": 20,
     "metadata": {},
     "output_type": "execute_result"
    }
   ],
   "source": [
    "# Display all records with NaN values in the data frame\n",
    "df_null = df[df.isnull().any(axis = 1)]\n",
    "df_null"
   ]
  },
  {
   "cell_type": "markdown",
   "id": "5e50a7bf-0555-4d11-b214-5f0660946ac6",
   "metadata": {},
   "source": [
    "There are **10,841** records in the dataframe, so the **1,474** records with **NaN** values are **removed**, as they do not represent a significant amount for the dataframe."
   ]
  },
  {
   "cell_type": "code",
   "execution_count": 22,
   "id": "61f186b7-a21c-4d7a-b1af-4f79d950701d",
   "metadata": {},
   "outputs": [],
   "source": [
    "df.dropna(subset = ['Rating','Content Rating', 'Current Ver', 'Android Ver', 'Last Updated'], axis = 0, inplace = True)"
   ]
  },
  {
   "cell_type": "code",
   "execution_count": 23,
   "id": "9e771769-d3f1-453c-a7a1-83661fb57263",
   "metadata": {},
   "outputs": [
    {
     "data": {
      "text/plain": [
       "App               0\n",
       "Category          0\n",
       "Rating            0\n",
       "Reviews           0\n",
       "Size              0\n",
       "Installs          0\n",
       "Type              0\n",
       "Price             0\n",
       "Content Rating    0\n",
       "Genres            0\n",
       "Last Updated      0\n",
       "Current Ver       0\n",
       "Android Ver       0\n",
       "dtype: int64"
      ]
     },
     "execution_count": 23,
     "metadata": {},
     "output_type": "execute_result"
    }
   ],
   "source": [
    "df.isnull().sum()"
   ]
  },
  {
   "cell_type": "code",
   "execution_count": 35,
   "id": "27d18371-02c0-4820-8378-04a3ec5555f2",
   "metadata": {},
   "outputs": [
    {
     "data": {
      "text/plain": [
       "9360"
      ]
     },
     "execution_count": 35,
     "metadata": {},
     "output_type": "execute_result"
    }
   ],
   "source": [
    "# Number of records after removing NaN values\n",
    "df.shape[0]"
   ]
  },
  {
   "cell_type": "markdown",
   "id": "4e4f5cec-4954-45c5-bfed-10890b1eba84",
   "metadata": {},
   "source": [
    "---"
   ]
  },
  {
   "cell_type": "markdown",
   "id": "7aef0e62-9c76-4bb3-9fe9-2983b1957e9a",
   "metadata": {},
   "source": [
    "Conversion of key **categorical variables** for our ML model to **numerical variables**"
   ]
  },
  {
   "cell_type": "code",
   "execution_count": 39,
   "id": "ad031290-a2ca-46ef-a4a8-f1be708b4135",
   "metadata": {},
   "outputs": [
    {
     "name": "stdout",
     "output_type": "stream",
     "text": [
      "<class 'pandas.core.frame.DataFrame'>\n",
      "Index: 9360 entries, 0 to 10840\n",
      "Data columns (total 13 columns):\n",
      " #   Column          Non-Null Count  Dtype  \n",
      "---  ------          --------------  -----  \n",
      " 0   App             9360 non-null   object \n",
      " 1   Category        9360 non-null   object \n",
      " 2   Rating          9360 non-null   float64\n",
      " 3   Reviews         9360 non-null   object \n",
      " 4   Size            9360 non-null   object \n",
      " 5   Installs        9360 non-null   object \n",
      " 6   Type            9360 non-null   object \n",
      " 7   Price           9360 non-null   object \n",
      " 8   Content Rating  9360 non-null   object \n",
      " 9   Genres          9360 non-null   object \n",
      " 10  Last Updated    9360 non-null   object \n",
      " 11  Current Ver     9360 non-null   object \n",
      " 12  Android Ver     9360 non-null   object \n",
      "dtypes: float64(1), object(12)\n",
      "memory usage: 1023.8+ KB\n"
     ]
    }
   ],
   "source": [
    "df.info()"
   ]
  },
  {
   "cell_type": "code",
   "execution_count": 61,
   "id": "3c9211ab-d8a3-4e7b-b208-5deec45423c7",
   "metadata": {},
   "outputs": [
    {
     "data": {
      "text/html": [
       "<div>\n",
       "<style scoped>\n",
       "    .dataframe tbody tr th:only-of-type {\n",
       "        vertical-align: middle;\n",
       "    }\n",
       "\n",
       "    .dataframe tbody tr th {\n",
       "        vertical-align: top;\n",
       "    }\n",
       "\n",
       "    .dataframe thead th {\n",
       "        text-align: right;\n",
       "    }\n",
       "</style>\n",
       "<table border=\"1\" class=\"dataframe\">\n",
       "  <thead>\n",
       "    <tr style=\"text-align: right;\">\n",
       "      <th></th>\n",
       "      <th>App</th>\n",
       "      <th>Category</th>\n",
       "      <th>Rating</th>\n",
       "      <th>Reviews</th>\n",
       "      <th>Size</th>\n",
       "      <th>Installs</th>\n",
       "      <th>Type</th>\n",
       "      <th>Price</th>\n",
       "      <th>Content Rating</th>\n",
       "      <th>Genres</th>\n",
       "      <th>Last Updated</th>\n",
       "      <th>Current Ver</th>\n",
       "      <th>Android Ver</th>\n",
       "    </tr>\n",
       "  </thead>\n",
       "  <tbody>\n",
       "    <tr>\n",
       "      <th>5345</th>\n",
       "      <td>Quran for Android</td>\n",
       "      <td>BOOKS_AND_REFERENCE</td>\n",
       "      <td>4.7</td>\n",
       "      <td>497826</td>\n",
       "      <td>Varies with device</td>\n",
       "      <td>10,000,000+</td>\n",
       "      <td>Free</td>\n",
       "      <td>0</td>\n",
       "      <td>Everyone</td>\n",
       "      <td>Books &amp; Reference</td>\n",
       "      <td>May 30, 2018</td>\n",
       "      <td>Varies with device</td>\n",
       "      <td>Varies with device</td>\n",
       "    </tr>\n",
       "    <tr>\n",
       "      <th>2248</th>\n",
       "      <td>Paramedic Protocol Provider</td>\n",
       "      <td>MEDICAL</td>\n",
       "      <td>4.5</td>\n",
       "      <td>171</td>\n",
       "      <td>20M</td>\n",
       "      <td>10,000+</td>\n",
       "      <td>Paid</td>\n",
       "      <td>$10.00</td>\n",
       "      <td>Everyone 10+</td>\n",
       "      <td>Medical</td>\n",
       "      <td>September 21, 2017</td>\n",
       "      <td>1.8.3</td>\n",
       "      <td>4.1 and up</td>\n",
       "    </tr>\n",
       "    <tr>\n",
       "      <th>2011</th>\n",
       "      <td>Farm Heroes Saga</td>\n",
       "      <td>GAME</td>\n",
       "      <td>4.4</td>\n",
       "      <td>7614407</td>\n",
       "      <td>70M</td>\n",
       "      <td>100,000,000+</td>\n",
       "      <td>Free</td>\n",
       "      <td>0</td>\n",
       "      <td>Everyone</td>\n",
       "      <td>Casual</td>\n",
       "      <td>July 26, 2018</td>\n",
       "      <td>5.1.8</td>\n",
       "      <td>2.3 and up</td>\n",
       "    </tr>\n",
       "    <tr>\n",
       "      <th>9148</th>\n",
       "      <td>Command &amp; Conquer: Rivals</td>\n",
       "      <td>FAMILY</td>\n",
       "      <td>NaN</td>\n",
       "      <td>0</td>\n",
       "      <td>Varies with device</td>\n",
       "      <td>0</td>\n",
       "      <td>NaN</td>\n",
       "      <td>0</td>\n",
       "      <td>Everyone 10+</td>\n",
       "      <td>Strategy</td>\n",
       "      <td>June 28, 2018</td>\n",
       "      <td>Varies with device</td>\n",
       "      <td>Varies with device</td>\n",
       "    </tr>\n",
       "    <tr>\n",
       "      <th>5168</th>\n",
       "      <td>Downers Grove AH</td>\n",
       "      <td>MEDICAL</td>\n",
       "      <td>NaN</td>\n",
       "      <td>0</td>\n",
       "      <td>29M</td>\n",
       "      <td>100+</td>\n",
       "      <td>Free</td>\n",
       "      <td>0</td>\n",
       "      <td>Everyone</td>\n",
       "      <td>Medical</td>\n",
       "      <td>January 10, 2018</td>\n",
       "      <td>300000.0.96</td>\n",
       "      <td>4.0.3 and up</td>\n",
       "    </tr>\n",
       "  </tbody>\n",
       "</table>\n",
       "</div>"
      ],
      "text/plain": [
       "                              App             Category  Rating  Reviews  \\\n",
       "5345            Quran for Android  BOOKS_AND_REFERENCE     4.7   497826   \n",
       "2248  Paramedic Protocol Provider              MEDICAL     4.5      171   \n",
       "2011             Farm Heroes Saga                 GAME     4.4  7614407   \n",
       "9148    Command & Conquer: Rivals               FAMILY     NaN        0   \n",
       "5168             Downers Grove AH              MEDICAL     NaN        0   \n",
       "\n",
       "                    Size      Installs  Type   Price Content Rating  \\\n",
       "5345  Varies with device   10,000,000+  Free       0       Everyone   \n",
       "2248                 20M       10,000+  Paid  $10.00   Everyone 10+   \n",
       "2011                 70M  100,000,000+  Free       0       Everyone   \n",
       "9148  Varies with device             0   NaN       0   Everyone 10+   \n",
       "5168                 29M          100+  Free       0       Everyone   \n",
       "\n",
       "                 Genres        Last Updated         Current Ver  \\\n",
       "5345  Books & Reference        May 30, 2018  Varies with device   \n",
       "2248            Medical  September 21, 2017               1.8.3   \n",
       "2011             Casual       July 26, 2018               5.1.8   \n",
       "9148           Strategy       June 28, 2018  Varies with device   \n",
       "5168            Medical    January 10, 2018         300000.0.96   \n",
       "\n",
       "             Android Ver  \n",
       "5345  Varies with device  \n",
       "2248          4.1 and up  \n",
       "2011          2.3 and up  \n",
       "9148  Varies with device  \n",
       "5168        4.0.3 and up  "
      ]
     },
     "execution_count": 61,
     "metadata": {},
     "output_type": "execute_result"
    }
   ],
   "source": [
    "df.sample(5)"
   ]
  },
  {
   "cell_type": "markdown",
   "id": "cd26a77f-4b38-4dcc-8a21-5eb58b14eaea",
   "metadata": {},
   "source": [
    "The **Price** variable is formatted, **removing “$”** and **spaces**. It is converted **from object type to float64 type**."
   ]
  },
  {
   "cell_type": "code",
   "execution_count": 42,
   "id": "f4646f6f-2322-4080-bb8d-d1a496d19721",
   "metadata": {},
   "outputs": [],
   "source": [
    "df['Price'] = df['Price'].str.replace('$', '', regex = False).astype(float)"
   ]
  },
  {
   "cell_type": "markdown",
   "id": "4b6da4a8-3831-4038-b3e5-7c9dea8c9f5d",
   "metadata": {},
   "source": [
    "The **Reviews** variable is converted **from type object to type float64**. "
   ]
  },
  {
   "cell_type": "code",
   "execution_count": 45,
   "id": "80a263d2-a762-4c7e-be32-3f74dd17f276",
   "metadata": {},
   "outputs": [],
   "source": [
    "df['Reviews'] = pd.to_numeric(df['Reviews'], errors = 'coerce')"
   ]
  },
  {
   "cell_type": "markdown",
   "id": "7a3b6117-5548-4706-b652-ecfd8827c366",
   "metadata": {},
   "source": [
    "For the **Size** variable, the values are in **“Megabytes,” “Kilobytes,” and “Varies with device.”**\n",
    "First, a **standard** will be established so that **all apps have their Size in Mb**, **dividing by 1024** for Kb cases.\n",
    "For **“Varies with device”** cases, the value is set to **NaN**."
   ]
  },
  {
   "cell_type": "code",
   "execution_count": 48,
   "id": "33caed9f-441f-4e29-a006-f179cc69e253",
   "metadata": {},
   "outputs": [],
   "source": [
    "# Size\n",
    "def conv_size(value):\n",
    "    if 'M' in value:\n",
    "        return float(value.replace('M', ''))\n",
    "    elif 'k' in value:\n",
    "        return float(value.replace('k', '')) / 1024\n",
    "    elif 'Varies with device' in value:\n",
    "        return None\n",
    "    return None\n",
    "        \n",
    "df['Size_num'] = df['Size'].apply(conv_size)"
   ]
  },
  {
   "cell_type": "code",
   "execution_count": 50,
   "id": "d46bd11e-3a9a-4379-9ccd-a8418e80c866",
   "metadata": {},
   "outputs": [
    {
     "data": {
      "text/plain": [
       "1637"
      ]
     },
     "execution_count": 50,
     "metadata": {},
     "output_type": "execute_result"
    }
   ],
   "source": [
    "df['Size_num'].isnull().sum()"
   ]
  },
  {
   "cell_type": "markdown",
   "id": "5a79252c-3d4f-4a9e-8b81-46d4bfa7cf42",
   "metadata": {},
   "source": [
    "The number of cases of **“Varies with device” - NaN** is **1637**.\n",
    "The values are **replaced** with the **average** based on the **app Category** to which they **belong**."
   ]
  },
  {
   "cell_type": "code",
   "execution_count": 53,
   "id": "d4d956fc-b82d-4021-a5bc-fcd715bbd8d2",
   "metadata": {},
   "outputs": [],
   "source": [
    "df_size_NaN = df[df['Size_num'].isnull()]\n",
    "category_count =  df_size_NaN['Category'].value_counts()\n",
    "# Category name\n",
    "category_count.index\n",
    "\n",
    "for c in category_count.index:\n",
    "    category_mean = df[df['Category'] == c]['Size_num'].mean()\n",
    "    df.loc[(df['Category'] == c) & (df['Size_num'].isnull()), 'Size_num'] = category_mean"
   ]
  },
  {
   "cell_type": "markdown",
   "id": "812f11ea-7d2f-454d-a926-becc9c3846f6",
   "metadata": {},
   "source": [
    "For the **Installs** variable of type object, the field is formatted by **replacing “+” and “,”** with **spaces** and **converting** it to type **int**.\n",
    "The **column name** is changed to **Installs+** to refer to the previous symbology."
   ]
  },
  {
   "cell_type": "code",
   "execution_count": 56,
   "id": "34132cb8-a787-40c1-8ba8-39dfe68dc9a2",
   "metadata": {},
   "outputs": [],
   "source": [
    "df['Installs'] = df['Installs'].str.replace('+', '', regex = False).str.replace(',', '', regex = False)\n",
    "\n",
    "df['Installs'] = pd.to_numeric(df['Installs'], errors='coerce').astype('Int64')\n",
    "df.rename(columns = {'Installs' : 'Installs+'}, inplace = True )"
   ]
  },
  {
   "cell_type": "code",
   "execution_count": 58,
   "id": "16a0d38f-462f-4d2a-91a0-d51331425145",
   "metadata": {},
   "outputs": [
    {
     "data": {
      "text/html": [
       "<div>\n",
       "<style scoped>\n",
       "    .dataframe tbody tr th:only-of-type {\n",
       "        vertical-align: middle;\n",
       "    }\n",
       "\n",
       "    .dataframe tbody tr th {\n",
       "        vertical-align: top;\n",
       "    }\n",
       "\n",
       "    .dataframe thead th {\n",
       "        text-align: right;\n",
       "    }\n",
       "</style>\n",
       "<table border=\"1\" class=\"dataframe\">\n",
       "  <thead>\n",
       "    <tr style=\"text-align: right;\">\n",
       "      <th></th>\n",
       "      <th>App</th>\n",
       "      <th>Category</th>\n",
       "      <th>Rating</th>\n",
       "      <th>Reviews</th>\n",
       "      <th>Size</th>\n",
       "      <th>Installs+</th>\n",
       "      <th>Type</th>\n",
       "      <th>Price</th>\n",
       "      <th>Content Rating</th>\n",
       "      <th>Genres</th>\n",
       "      <th>Last Updated</th>\n",
       "      <th>Current Ver</th>\n",
       "      <th>Android Ver</th>\n",
       "      <th>Size_num</th>\n",
       "    </tr>\n",
       "  </thead>\n",
       "  <tbody>\n",
       "    <tr>\n",
       "      <th>0</th>\n",
       "      <td>Photo Editor &amp; Candy Camera &amp; Grid &amp; ScrapBook</td>\n",
       "      <td>ART_AND_DESIGN</td>\n",
       "      <td>4.1</td>\n",
       "      <td>159</td>\n",
       "      <td>19M</td>\n",
       "      <td>10000</td>\n",
       "      <td>Free</td>\n",
       "      <td>0.0</td>\n",
       "      <td>Everyone</td>\n",
       "      <td>Art &amp; Design</td>\n",
       "      <td>2018-01-07</td>\n",
       "      <td>1.0.0</td>\n",
       "      <td>4.0.3 and up</td>\n",
       "      <td>19.0</td>\n",
       "    </tr>\n",
       "    <tr>\n",
       "      <th>1</th>\n",
       "      <td>Coloring book moana</td>\n",
       "      <td>ART_AND_DESIGN</td>\n",
       "      <td>3.9</td>\n",
       "      <td>967</td>\n",
       "      <td>14M</td>\n",
       "      <td>500000</td>\n",
       "      <td>Free</td>\n",
       "      <td>0.0</td>\n",
       "      <td>Everyone</td>\n",
       "      <td>Art &amp; Design;Pretend Play</td>\n",
       "      <td>2018-01-15</td>\n",
       "      <td>2.0.0</td>\n",
       "      <td>4.0.3 and up</td>\n",
       "      <td>14.0</td>\n",
       "    </tr>\n",
       "    <tr>\n",
       "      <th>2</th>\n",
       "      <td>U Launcher Lite – FREE Live Cool Themes, Hide ...</td>\n",
       "      <td>ART_AND_DESIGN</td>\n",
       "      <td>4.7</td>\n",
       "      <td>87510</td>\n",
       "      <td>8.7M</td>\n",
       "      <td>5000000</td>\n",
       "      <td>Free</td>\n",
       "      <td>0.0</td>\n",
       "      <td>Everyone</td>\n",
       "      <td>Art &amp; Design</td>\n",
       "      <td>2018-08-01</td>\n",
       "      <td>1.2.4</td>\n",
       "      <td>4.0.3 and up</td>\n",
       "      <td>8.7</td>\n",
       "    </tr>\n",
       "    <tr>\n",
       "      <th>3</th>\n",
       "      <td>Sketch - Draw &amp; Paint</td>\n",
       "      <td>ART_AND_DESIGN</td>\n",
       "      <td>4.5</td>\n",
       "      <td>215644</td>\n",
       "      <td>25M</td>\n",
       "      <td>50000000</td>\n",
       "      <td>Free</td>\n",
       "      <td>0.0</td>\n",
       "      <td>Teen</td>\n",
       "      <td>Art &amp; Design</td>\n",
       "      <td>2018-06-08</td>\n",
       "      <td>Varies with device</td>\n",
       "      <td>4.2 and up</td>\n",
       "      <td>25.0</td>\n",
       "    </tr>\n",
       "    <tr>\n",
       "      <th>4</th>\n",
       "      <td>Pixel Draw - Number Art Coloring Book</td>\n",
       "      <td>ART_AND_DESIGN</td>\n",
       "      <td>4.3</td>\n",
       "      <td>967</td>\n",
       "      <td>2.8M</td>\n",
       "      <td>100000</td>\n",
       "      <td>Free</td>\n",
       "      <td>0.0</td>\n",
       "      <td>Everyone</td>\n",
       "      <td>Art &amp; Design;Creativity</td>\n",
       "      <td>2018-06-20</td>\n",
       "      <td>1.1</td>\n",
       "      <td>4.4 and up</td>\n",
       "      <td>2.8</td>\n",
       "    </tr>\n",
       "  </tbody>\n",
       "</table>\n",
       "</div>"
      ],
      "text/plain": [
       "                                                 App        Category  Rating  \\\n",
       "0     Photo Editor & Candy Camera & Grid & ScrapBook  ART_AND_DESIGN     4.1   \n",
       "1                                Coloring book moana  ART_AND_DESIGN     3.9   \n",
       "2  U Launcher Lite – FREE Live Cool Themes, Hide ...  ART_AND_DESIGN     4.7   \n",
       "3                              Sketch - Draw & Paint  ART_AND_DESIGN     4.5   \n",
       "4              Pixel Draw - Number Art Coloring Book  ART_AND_DESIGN     4.3   \n",
       "\n",
       "   Reviews  Size  Installs+  Type  Price Content Rating  \\\n",
       "0      159   19M      10000  Free    0.0       Everyone   \n",
       "1      967   14M     500000  Free    0.0       Everyone   \n",
       "2    87510  8.7M    5000000  Free    0.0       Everyone   \n",
       "3   215644   25M   50000000  Free    0.0           Teen   \n",
       "4      967  2.8M     100000  Free    0.0       Everyone   \n",
       "\n",
       "                      Genres Last Updated         Current Ver   Android Ver  \\\n",
       "0               Art & Design   2018-01-07               1.0.0  4.0.3 and up   \n",
       "1  Art & Design;Pretend Play   2018-01-15               2.0.0  4.0.3 and up   \n",
       "2               Art & Design   2018-08-01               1.2.4  4.0.3 and up   \n",
       "3               Art & Design   2018-06-08  Varies with device    4.2 and up   \n",
       "4    Art & Design;Creativity   2018-06-20                 1.1    4.4 and up   \n",
       "\n",
       "   Size_num  \n",
       "0      19.0  \n",
       "1      14.0  \n",
       "2       8.7  \n",
       "3      25.0  \n",
       "4       2.8  "
      ]
     },
     "execution_count": 58,
     "metadata": {},
     "output_type": "execute_result"
    }
   ],
   "source": [
    "df.head()"
   ]
  },
  {
   "cell_type": "markdown",
   "id": "00fba984-4a40-4b7b-9c4b-2c80433740ac",
   "metadata": {},
   "source": [
    "---"
   ]
  },
  {
   "cell_type": "markdown",
   "id": "0cdf97e6-8865-4e54-aee3-1ca0a54efcef",
   "metadata": {},
   "source": [
    "## Model Development"
   ]
  },
  {
   "cell_type": "markdown",
   "id": "12c30466-76b2-4311-b4b9-06d2dc339da9",
   "metadata": {},
   "source": [
    "The system integrates LLaMA with a RAG pipeline, combining FAISS vector search and LLM generation. Queries are transformed into embeddings and matched against vectorized app data, enabling LLaMA to generate context-aware answers grounded in the retrieved information."
   ]
  },
  {
   "cell_type": "markdown",
   "id": "03112c22-cbc9-40e3-be46-7f1c4002bc9f",
   "metadata": {},
   "source": [
    "### <font color = 'blue'> LM-Based System: LLaMA + FAISS + RAG Pipeline (Retrieval-Augmented Generation) </font>"
   ]
  },
  {
   "cell_type": "markdown",
   "id": "73bb7c58-77c1-44d6-9edb-4c28fbc997d2",
   "metadata": {},
   "source": [
    "A **document** is created by grouping **“text”** and **“metadata”**.\n",
    "- Text: main content used to generate responses.\n",
    "- Metadata: contextual information.\n",
    "\n",
    "This allows for:\n",
    "- Easier retrieval: Search engines such as vectors use text.\n",
    "- Providing additional context: Metadata can be used to filter or classify results.\n",
    "- Optimize performance: Separate what needs to be indexed from what is only for display or filtering.\n",
    "\n",
    "This is a common and useful practice for **semantic search** and **RAG** systems."
   ]
  },
  {
   "cell_type": "code",
   "execution_count": 65,
   "id": "c4af703e-f233-4a11-bbaa-ad43f1087d0b",
   "metadata": {},
   "outputs": [],
   "source": [
    "#1. Create the documents\n",
    "from langchain.schema import Document\n",
    "\n",
    "documents = []\n",
    "for _, row in df.iterrows():\n",
    "    text = (\n",
    "        f\"App: {row['App']}. \"\n",
    "        f\"Category: {row['Category']}. \"\n",
    "        f\"Genres: {row['Genres']}. \"\n",
    "        f\"Price: {row['Price']}. \"\n",
    "        f\"Rating: {row['Rating']}. \"\n",
    "        f\"Size: {row['Size_num']}. \"\n",
    "        f\"Reviews: {row['Reviews']}. \"\n",
    "        f\"Current Ver: {row['Current Ver']}. \"\n",
    "        f\"Android Ver: {row['Android Ver']}.\"\n",
    "    )\n",
    "    metadata = {\n",
    "        \"Type\": row['Type'],\n",
    "        \"Last Updated\": row['Last Updated'],\n",
    "        \"Content Rating\": row['Content Rating'],\n",
    "        \"Installs+\": row['Installs+']\n",
    "    }\n",
    "    documents.append(Document(page_content = text, metadata = metadata))"
   ]
  },
  {
   "cell_type": "code",
   "execution_count": 67,
   "id": "ce2fd7b0-880d-4673-83d8-40aaa9fafbff",
   "metadata": {},
   "outputs": [
    {
     "name": "stdout",
     "output_type": "stream",
     "text": [
      "WARNING:tensorflow:From D:\\Anaconda\\Lib\\site-packages\\tf_keras\\src\\losses.py:2976: The name tf.losses.sparse_softmax_cross_entropy is deprecated. Please use tf.compat.v1.losses.sparse_softmax_cross_entropy instead.\n",
      "\n"
     ]
    }
   ],
   "source": [
    "#2. Definition and loading of the embedding model\n",
    "from langchain_community.embeddings import HuggingFaceEmbeddings\n",
    "\n",
    "# Embeddings model\n",
    "hf_embed = HuggingFaceEmbeddings(model_name = \"all-MiniLM-L6-v2\") # lightweight model (MiniLM) trained to convert text into vectors"
   ]
  },
  {
   "cell_type": "markdown",
   "id": "c3f26a78-8c78-4414-bb04-7dc2d713eaac",
   "metadata": {},
   "source": [
    "The **texts** are **converted** into numerical **vectors** or **embeddings** to then perform a **FAISS library similarity search**. \n",
    "\n",
    "**Similarity** is **measured** using metrics such as **Cosine Similarity** or **Euclidean Distance**.\n",
    "\n",
    "**FAISS** returns the documents whose **vectors** are **closest** to the query vector."
   ]
  },
  {
   "cell_type": "code",
   "execution_count": 69,
   "id": "684bb7c0-eea5-464c-a904-3f2435bf484f",
   "metadata": {},
   "outputs": [],
   "source": [
    "#3. Create the vector store with FAISS for similarity search\n",
    "from langchain.vectorstores import FAISS\n",
    "\n",
    "vectorstore = FAISS.from_documents(documents, embedding = hf_embed)"
   ]
  },
  {
   "cell_type": "code",
   "execution_count": 70,
   "id": "3b7c6a36-9120-4062-9ad5-7aedf72726aa",
   "metadata": {},
   "outputs": [],
   "source": [
    "#4. Define and load the local LLM model Ollama with LangChain framework\n",
    "from langchain_community.llms import Ollama\n",
    "\n",
    "llm = Ollama(model=\"gemma:2b\")\n",
    "#llm = Ollama(model=\"llama2\")\n",
    "#llm = Ollama(model=\"phi3:mini\")"
   ]
  },
  {
   "cell_type": "markdown",
   "id": "e7c344b8-102f-44b2-8de2-6527211c10a7",
   "metadata": {},
   "source": [
    "1. Search the documents.\n",
    "2. Use the LLM to generate a response.\n",
    "3. Return the answer and the sources used."
   ]
  },
  {
   "cell_type": "code",
   "execution_count": 77,
   "id": "69dda89d-7434-4ff2-bde6-f976f9553f7d",
   "metadata": {},
   "outputs": [],
   "source": [
    "#5. Build the RAG (Retrieval-Augmented Generation) pipeline\n",
    "from langchain.chains import RetrievalQA\n",
    "\n",
    "qa_chain = RetrievalQA.from_chain_type(\n",
    "    llm = llm,                                    # model\n",
    "    retriever = vectorstore.as_retriever(),       # search for the most relevant documents in your vector database\n",
    "    return_source_documents = True                # In addition to the answer also return the documents used as sources\n",
    ")"
   ]
  },
  {
   "cell_type": "markdown",
   "id": "5b4c4043-2b7f-485d-8d35-c650f6c78f75",
   "metadata": {},
   "source": [
    "A **hybrid scheme** was implemented for the chatbot to work with different types of questions.\n",
    "\n",
    "LLaMA **LLM model** to interpret and generate a response in **natural language**.\n",
    "\n",
    "**Filters and validations** for **numerical calculations** with **Pandas**.\n",
    "\n",
    "**LLM models and FAISS** similarity search **are not reliable** with **numerical operations**, which is why hybrid schemes are very applicable in real production environments."
   ]
  },
  {
   "cell_type": "markdown",
   "id": "10975cbb-0597-4644-bde3-7a00a5db0a18",
   "metadata": {},
   "source": [
    "For the Google PlayStore review chatbot, I performed different types of validations on the possible questions that users might ask in relation to **numerical calculations**, involving keywords such as: **“Top,” “expensive,” “cheap,” “size,” etc**, also covering words in Spanish , trying to cover as many possibilities as possible.\n",
    "\n",
    "If the question asked by the user does not contain the defined keywords, the response will be generated with a **semantic response** using the LLM and FAISS models."
   ]
  },
  {
   "cell_type": "code",
   "execution_count": 158,
   "id": "15ef2df1-4e7b-4fb1-a199-edfcb2628921",
   "metadata": {},
   "outputs": [],
   "source": [
    "# Question Type\n",
    "import re\n",
    "\n",
    "def question_type(question: str):\n",
    "    question = question.lower()\n",
    "    num = None\n",
    "\n",
    "    # Extract number for answers with \"Top\"\n",
    "    num_match = re.search(r'\\d+', question)\n",
    "    if num_match:\n",
    "        num = int(num_match.group())\n",
    "\n",
    "    # TOP queries\n",
    "    if \"top\" in question:\n",
    "        if \"caro\" in question or \"caras\" in question or \"expensive\" in question:\n",
    "            return \"top_max_price\", num\n",
    "        elif \"barata\" in question or \"baratas\" in question or \"cheap\" in question or \"cheapest\" in question:\n",
    "            return \"top_min_price\", num\n",
    "        elif \"rating\" in question:\n",
    "            if \"mejor\" in question or \"mas\" in question or \"mayor\" in question or \"best\" in question:\n",
    "                return \"top_max_rating\", num\n",
    "            elif \"peor\" in question or \"menos\" in question or \"menor\" in question or \"worst\" in question:\n",
    "                return \"top_min_rating\", num\n",
    "        else:\n",
    "            return \"top_unspecified\", num\n",
    "\n",
    "    # Numeric Queries\n",
    "    if \"caro\" in question or \"cara\" in question or \"expensive\" in question:\n",
    "        return \"max_price\", None\n",
    "    if \"barata\" in question or \"barato\" in question or \"cheap\" in question or \"cheapest\" in question:\n",
    "        return \"min_price\", None\n",
    "    if \"ratings\" in question or \"rating\" in question:\n",
    "        if \"mejor\" in question or 'mayor' in question or \"best\" in question or \"most\" in questions or 'more' in question or 'highest' in question:\n",
    "            return \"max_rating\", None\n",
    "        elif \"peor\" in question or 'menor' in question or \"worst\" in question or 'less' in questions or 'lowest ' in question:\n",
    "            return \"min_rating\", None\n",
    "    if \"reviews\" in question or 'review' in question:\n",
    "        if \"mas\" in question or \"mayor\" in question or \"more\" in question or 'most' in question or 'highest' in question:\n",
    "            return \"rev_more\", None\n",
    "        elif \"menos\" in question or \"menor\" in question or \"less\" in question or 'lowest ' in question:\n",
    "            return \"rev_less\", None\n",
    "    if \"tamaño\" in question or \"pesada\" in question or \"size\" in question:\n",
    "        if \"mas\" in question or \"mayor\" in question or \"more\" in question:\n",
    "            return \"size_more\", None\n",
    "        elif \"menos\" in question or \"menor\" in question or \"less\" in question:\n",
    "            return \"size_less\", None\n",
    "\n",
    "    # Default Semantic Query\n",
    "    return \"semantic\", None"
   ]
  },
  {
   "cell_type": "markdown",
   "id": "de0363e0-a4a6-4cda-ac1d-258d430b9e48",
   "metadata": {},
   "source": [
    "The type of question asked by the user is processed based on the text validations from the previous step. Validations and filters are executed in Pandas for questions related to numerical operations, or the LLM + FAISS model is executed for semantic questions.\n",
    "\n",
    "The model **prompt** is defined to:\n",
    "- Understand the context\n",
    "- Know what type of output is expected\n",
    "- Activate its generation mechanism\n",
    "\n",
    "A **prompt is necessary**, even if the user does not always see it directly. It is the **essential input for an LLM to function**."
   ]
  },
  {
   "cell_type": "code",
   "execution_count": 160,
   "id": "cd9dd3e9-5668-447c-83f0-fe1b147619c2",
   "metadata": {},
   "outputs": [],
   "source": [
    "def answer(query: str):\n",
    "    # Question type detection\n",
    "    tipo, num = question_type(query)\n",
    "    #print(tipo, num)\n",
    "\n",
    "    # Type of response according to the type\n",
    "    if tipo == \"max_price\":\n",
    "        app = df.loc[df['Price'].idxmax()]\n",
    "        return f\"The most expensive app is *{app['App']}* with a price of ${app['Price']:.2f}.\"\n",
    "\n",
    "    elif tipo == \"min_price\":\n",
    "        app = df.loc[df['Price'].idxmin()]\n",
    "        return f\"The cheapest app is *{app['App']}* with a price of ${app['Price']:.2f}.\"\n",
    "\n",
    "    elif tipo == \"top_max_price\" and num:\n",
    "        top_apps = df.sort_values(\"Price\", ascending=False).head(num)\n",
    "        return \"Top {} most expensive apps: {}\".format(\n",
    "            num,\n",
    "            \"\\n\".join([f\"- {row['App']} (${row['Price']:.2f})\" for _, row in top_apps.iterrows()])\n",
    "        )\n",
    "\n",
    "    elif tipo == \"top_min_price\" and num:\n",
    "        top_apps = df.sort_values(\"Price\").head(num)\n",
    "        return \"Top {} cheaper apps: {}\".format(\n",
    "            num,\n",
    "            \"\\n\".join([f\"- {row['App']} (${row['Price']:.2f})\" for _, row in top_apps.iterrows()])\n",
    "        )\n",
    "\n",
    "    elif tipo == \"max_rating\":\n",
    "        app = df.loc[df['Rating'].idxmax()]\n",
    "        return f\"The highest-rated app is *{app['App']}* with Rating {app['Rating']}.\"\n",
    "\n",
    "    elif tipo == \"min_rating\":\n",
    "        app = df.loc[df['Rating'].idxmin()]\n",
    "        return f\"The app with the worst rating is *{app['App']}* with Rating {app['Rating']}.\"\n",
    "\n",
    "    elif tipo == \"top_max_rating\" and num:\n",
    "        top_apps = df.sort_values(\"Rating\", ascending=False).head(num)\n",
    "        return \"Top {} highest-rated apps: {}\".format(\n",
    "            num,\n",
    "            \"\\n\".join([f\"- {row['App']} ({row['Rating']})\" for _, row in top_apps.iterrows()])\n",
    "        )\n",
    "\n",
    "    elif tipo == \"top_min_rating\" and num:\n",
    "        top_apps = df.sort_values(\"Rating\").head(num)\n",
    "        return \"Top {} apps with the worst ratings: {}\".format(\n",
    "            num,\n",
    "            \"\\n\".join([f\"- {row['App']} ({row['Rating']})\" for _, row in top_apps.iterrows()])\n",
    "        )\n",
    "\n",
    "    elif tipo == \"rev_more\":\n",
    "        app = df.loc[df['Reviews'].idxmax()]\n",
    "        return f\"The app with the most reviews is *{app['App']}* with {app['Reviews']} reviews.\"\n",
    "\n",
    "    elif tipo == \"rev_less\":\n",
    "        app = df.loc[df['Reviews'].idxmin()]\n",
    "        return f\"The app with the fewest reviews is *{app['App']}* with {app['Reviews']} reviews.\"\n",
    "\n",
    "    elif tipo == \"size_more\":\n",
    "        app = df.loc[df['Size_num'].idxmax()]\n",
    "        return f\"The heaviest app is *{app['App']}* with {app['Size_num']:.2f} MB.\"\n",
    "\n",
    "    elif tipo == \"size_less\":\n",
    "        app = df.loc[df['Size_num'].idxmin()]\n",
    "        return f\"The lightest app is *{app['App']}* with {app['Size_num']:.2f} MB.\"\n",
    "\n",
    "    # Semantic Answer (FAISS + LLM)\n",
    "    elif tipo == \"semantic\":\n",
    "        docs = vectorstore.similarity_search(query, k = 30)\n",
    "        context = \"\\n\".join([d.page_content for d in docs])\n",
    "\n",
    "        prompt = (\n",
    "            \"You are an expert assistant specialized in Google Play apps\"\n",
    "            \"Based on the following context, provide a clear and detailed answer \"\n",
    "            \"to the user's question.\"\n",
    "            f\"Context:{context}\"\n",
    "            f\"Question: {query}\"\n",
    "            \"Answer in English:\"\n",
    "        )\n",
    "\n",
    "        final_answer = llm.invoke(prompt)  # model: gemma:2b\n",
    "        return final_answer\n",
    "\n",
    "    else:\n",
    "        return \"I didn't understand your question. Please rephrase it.\""
   ]
  },
  {
   "cell_type": "code",
   "execution_count": 164,
   "id": "27605a05-483c-4484-acae-9402275bd6e9",
   "metadata": {},
   "outputs": [],
   "source": [
    "questions = [\"What is the most expensive app in the ENTERTAINMENT category?\",\n",
    "            \"What are the top 5 apps with the best ratings in the BOOKS_AND_REFERENCE category?\",\n",
    "            \"Which app has the most reviews in SOCIAL category?\",\n",
    "            \"The highest-rated educational app according to your criteria\",\n",
    "            \"Which shoping app would you recommend for users who want high ratings and lots of reviews, and why?\"]\n",
    "\n",
    "answers = [answer(q) for q in questions]"
   ]
  },
  {
   "cell_type": "code",
   "execution_count": 166,
   "id": "560e7434-bb7b-4a81-810a-d2922996552f",
   "metadata": {},
   "outputs": [
    {
     "data": {
      "text/html": [
       "<div>\n",
       "<style scoped>\n",
       "    .dataframe tbody tr th:only-of-type {\n",
       "        vertical-align: middle;\n",
       "    }\n",
       "\n",
       "    .dataframe tbody tr th {\n",
       "        vertical-align: top;\n",
       "    }\n",
       "\n",
       "    .dataframe thead th {\n",
       "        text-align: right;\n",
       "    }\n",
       "</style>\n",
       "<table border=\"1\" class=\"dataframe\">\n",
       "  <thead>\n",
       "    <tr style=\"text-align: right;\">\n",
       "      <th></th>\n",
       "      <th>Question</th>\n",
       "      <th>Answer</th>\n",
       "    </tr>\n",
       "  </thead>\n",
       "  <tbody>\n",
       "    <tr>\n",
       "      <th>0</th>\n",
       "      <td>What is the most expensive app in the ENTERTAINMENT category?</td>\n",
       "      <td>The most expensive app is *I'm Rich - Trump Edition* with a price of $400.00.</td>\n",
       "    </tr>\n",
       "    <tr>\n",
       "      <th>1</th>\n",
       "      <td>What are the top 5 apps with the best ratings in the BOOKS_AND_REFERENCE category?</td>\n",
       "      <td>Top 5 highest-rated apps: - Mindvalley U Tallinn 2018 (5.0)\\n- Ek Vote (5.0)\\n- ei Calc (5.0)\\n- Startupticker.ch News, Events (5.0)\\n- Kolkata News:Anandbazar Patrika,ei samay&amp;AllRating (5.0)</td>\n",
       "    </tr>\n",
       "    <tr>\n",
       "      <th>2</th>\n",
       "      <td>Which app has the most reviews in SOCIAL category?</td>\n",
       "      <td>The app with the most reviews is *Facebook* with 78158306 reviews.</td>\n",
       "    </tr>\n",
       "    <tr>\n",
       "      <th>3</th>\n",
       "      <td>The highest-rated educational app according to your criteria</td>\n",
       "      <td>Sure, based on the criteria you provided, **Khan Academy** emerges as the highest-rated educational app.\\n\\n**Category:** EDUCATION\\n**Genres:** Education\\n**Price:** Free\\n**Rating:** 4.6/5\\n**Size:** 21.0\\n**Reviews:** 85375\\n**Current Ver:** 5.0.0\\n\\nKhan Academy offers a wide range of educational content, including videos, exercises, and practice questions, across various subjects. It is widely used by students of all ages and is considered one of the most trusted educational platforms globally.</td>\n",
       "    </tr>\n",
       "    <tr>\n",
       "      <th>4</th>\n",
       "      <td>Which shoping app would you recommend for users who want high ratings and lots of reviews, and why?</td>\n",
       "      <td>Based on the context, **Shopfully - Weekly Ads &amp; Deals** would be the shoping app that would be highly recommended for users who want high ratings and lots of reviews. It has a rating of 4.4 with 279,428 reviews, and a positive overall sentiment, which suggests that users have had a positive experience with the app.</td>\n",
       "    </tr>\n",
       "  </tbody>\n",
       "</table>\n",
       "</div>"
      ],
      "text/plain": [
       "                                                                                              Question  \\\n",
       "0                                        What is the most expensive app in the ENTERTAINMENT category?   \n",
       "1                   What are the top 5 apps with the best ratings in the BOOKS_AND_REFERENCE category?   \n",
       "2                                                   Which app has the most reviews in SOCIAL category?   \n",
       "3                                         The highest-rated educational app according to your criteria   \n",
       "4  Which shoping app would you recommend for users who want high ratings and lots of reviews, and why?   \n",
       "\n",
       "                                                                                                                                                                                                                                                                                                                                                                                                                                                                                                                     Answer  \n",
       "0                                                                                                                                                                                                                                                                                                                                                                                                                                             The most expensive app is *I'm Rich - Trump Edition* with a price of $400.00.  \n",
       "1                                                                                                                                                                                                                                                                                                                          Top 5 highest-rated apps: - Mindvalley U Tallinn 2018 (5.0)\\n- Ek Vote (5.0)\\n- ei Calc (5.0)\\n- Startupticker.ch News, Events (5.0)\\n- Kolkata News:Anandbazar Patrika,ei samay&AllRating (5.0)  \n",
       "2                                                                                                                                                                                                                                                                                                                                                                                                                                                        The app with the most reviews is *Facebook* with 78158306 reviews.  \n",
       "3  Sure, based on the criteria you provided, **Khan Academy** emerges as the highest-rated educational app.\\n\\n**Category:** EDUCATION\\n**Genres:** Education\\n**Price:** Free\\n**Rating:** 4.6/5\\n**Size:** 21.0\\n**Reviews:** 85375\\n**Current Ver:** 5.0.0\\n\\nKhan Academy offers a wide range of educational content, including videos, exercises, and practice questions, across various subjects. It is widely used by students of all ages and is considered one of the most trusted educational platforms globally.  \n",
       "4                                                                                                                                                                                             Based on the context, **Shopfully - Weekly Ads & Deals** would be the shoping app that would be highly recommended for users who want high ratings and lots of reviews. It has a rating of 4.4 with 279,428 reviews, and a positive overall sentiment, which suggests that users have had a positive experience with the app.  "
      ]
     },
     "execution_count": 166,
     "metadata": {},
     "output_type": "execute_result"
    }
   ],
   "source": [
    "pd.set_option('display.max_colwidth', None)\n",
    "\n",
    "response = {'Question': questions, \n",
    "            'Answer': answers}\n",
    "df_results = pd.DataFrame(response)\n",
    "df_results"
   ]
  },
  {
   "cell_type": "markdown",
   "id": "2516c3af-960c-415a-b376-ab4a5df8867f",
   "metadata": {},
   "source": [
    "It should be noted that due to the magnitude of the LLM used, which belongs to the all-MiniLM-L6-v2 category, it is a very lightweight model. It is expected that the chatbot will not respond to very specific or complex reasoning questions or questions that are not found as parameters within the document."
   ]
  },
  {
   "cell_type": "markdown",
   "id": "7ca4d978-5e6f-4e32-9040-18c261093043",
   "metadata": {},
   "source": [
    "---"
   ]
  },
  {
   "cell_type": "markdown",
   "id": "c2ac92dc-a5ee-41bc-b4c3-2e8beab9aa44",
   "metadata": {},
   "source": [
    "## Conclusion"
   ]
  },
  {
   "cell_type": "markdown",
   "id": "84ad1fbc-b180-4791-9303-b72aa7f792b6",
   "metadata": {},
   "source": [
    "This project implements a Google Play reviews chatbot using a Retrieval-Augmented Generation (RAG) pipeline, combining semantic embeddings (FAISS + Hugging Face) with an LLM (LLaMA, Gemma:2b, Phi3:mini). Through carefully designed prompts, the system answers both open-ended natural language queries and numerical-driven questions (ranking, pricing, ratings), achieving a hybrid approach aligned with real-world NLP and modern chatbot applications."
   ]
  }
 ],
 "metadata": {
  "kernelspec": {
   "display_name": "Python 3 (ipykernel)",
   "language": "python",
   "name": "python3"
  },
  "language_info": {
   "codemirror_mode": {
    "name": "ipython",
    "version": 3
   },
   "file_extension": ".py",
   "mimetype": "text/x-python",
   "name": "python",
   "nbconvert_exporter": "python",
   "pygments_lexer": "ipython3",
   "version": "3.12.7"
  }
 },
 "nbformat": 4,
 "nbformat_minor": 5
}
